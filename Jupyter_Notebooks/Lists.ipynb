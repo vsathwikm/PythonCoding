{
 "cells": [
  {
   "cell_type": "markdown",
   "metadata": {
    "ExecuteTime": {
     "end_time": "2021-06-14T17:18:13.970133Z",
     "start_time": "2021-06-14T17:18:13.952130Z"
    }
   },
   "source": [
    "# Lists and list methods\n",
    "\n",
    "Lists are a collection of primary data entities (like numbers, characters, strings, dates, other lists, objects etc.)\n",
    "\n",
    "Below are all the methods applicable on Lists."
   ]
  },
  {
   "cell_type": "code",
   "execution_count": 8,
   "metadata": {
    "ExecuteTime": {
     "end_time": "2021-06-14T18:10:18.965442Z",
     "start_time": "2021-06-14T18:10:18.946433Z"
    }
   },
   "outputs": [],
   "source": [
    "# Initializing list\n",
    "\n",
    "L = [] # empty list\n",
    "L = ['a','b','c'] # homogenous list\n",
    "L = [1, 2.345, 'Hello', 'Z'] # heterogenous list"
   ]
  },
  {
   "cell_type": "markdown",
   "metadata": {},
   "source": [
    "## Adding  to a list - possible through multiple methods\n",
    "\n",
    "* append() - for adding a single value\n",
    "* extend() - adding iterable\n",
    "* insert() - adding a value at a certain index"
   ]
  },
  {
   "cell_type": "code",
   "execution_count": 10,
   "metadata": {
    "ExecuteTime": {
     "end_time": "2021-06-14T18:13:23.417294Z",
     "start_time": "2021-06-14T18:13:23.390304Z"
    }
   },
   "outputs": [
    {
     "data": {
      "text/plain": [
       "[1, 2, 3, 4, 5, 6, 7, 8, 9]"
      ]
     },
     "execution_count": 10,
     "metadata": {},
     "output_type": "execute_result"
    }
   ],
   "source": [
    "L = [1,2,3,4,5]\n",
    "L.append(6)\n",
    "L.extend([7,8])\n",
    "L.insert(8,9) # insert(index, value) - adding entry at the end of list can also be done as L.insert(len(L),x)\n",
    "L"
   ]
  },
  {
   "cell_type": "markdown",
   "metadata": {},
   "source": [
    "### Extend vs Append\n",
    "\n",
    "append() function can be used to add one value to a list at a time. If you have to add multiple values to a list in a single operation use extend(). See examples below.\n",
    "\n",
    "<p style=\"color:red; \"><b>NOTE:</b></p> Two lists cannot be added using the append() function. Simply use '+' operator or extend() function"
   ]
  },
  {
   "cell_type": "code",
   "execution_count": 2,
   "metadata": {
    "ExecuteTime": {
     "end_time": "2021-06-14T17:17:45.866664Z",
     "start_time": "2021-06-14T17:17:45.804439Z"
    }
   },
   "outputs": [
    {
     "data": {
      "text/plain": [
       "[1, 2, 3, 4, 5, 6, 7, 8]"
      ]
     },
     "execution_count": 2,
     "metadata": {},
     "output_type": "execute_result"
    }
   ],
   "source": [
    "# adding multiple values using extend\n",
    "x = [1, 2, 3, 4, 5, 6]\n",
    "x.extend([7,8])\n",
    "x"
   ]
  },
  {
   "cell_type": "code",
   "execution_count": 3,
   "metadata": {
    "ExecuteTime": {
     "end_time": "2021-06-14T17:17:47.571770Z",
     "start_time": "2021-06-14T17:17:47.554787Z"
    }
   },
   "outputs": [
    {
     "data": {
      "text/plain": [
       "[1, 2, 3, 4, 5, 6, 7, 8, 9]"
      ]
     },
     "execution_count": 3,
     "metadata": {},
     "output_type": "execute_result"
    }
   ],
   "source": [
    "x.append(9)\n",
    "x"
   ]
  },
  {
   "cell_type": "code",
   "execution_count": 4,
   "metadata": {
    "ExecuteTime": {
     "end_time": "2021-06-14T17:17:49.472537Z",
     "start_time": "2021-06-14T17:17:49.442044Z"
    }
   },
   "outputs": [
    {
     "data": {
      "text/plain": [
       "[1, 2, 3, 4, 5, 6, 7, 8, 9, [10, 11]]"
      ]
     },
     "execution_count": 4,
     "metadata": {},
     "output_type": "execute_result"
    }
   ],
   "source": [
    "# what happens if you use append to add multiple values to an existing list?\n",
    "x.append([10,11])\n",
    "# Makes a mess...you now got a list of list\n",
    "x"
   ]
  },
  {
   "cell_type": "code",
   "execution_count": 23,
   "metadata": {
    "ExecuteTime": {
     "end_time": "2021-06-14T18:21:57.358687Z",
     "start_time": "2021-06-14T18:21:57.334689Z"
    }
   },
   "outputs": [
    {
     "data": {
      "text/plain": [
       "[1, 2, 3, 4, 5, 6]"
      ]
     },
     "execution_count": 23,
     "metadata": {},
     "output_type": "execute_result"
    }
   ],
   "source": [
    "# Adding two lists\n",
    "\n",
    "L1 = [1,2,3]\n",
    "L2 = [4,5,6]\n",
    "L3 = L1 + L2\n",
    "L3"
   ]
  },
  {
   "cell_type": "code",
   "execution_count": 24,
   "metadata": {
    "ExecuteTime": {
     "end_time": "2021-06-14T18:21:59.092124Z",
     "start_time": "2021-06-14T18:21:59.066141Z"
    }
   },
   "outputs": [
    {
     "data": {
      "text/plain": [
       "[1, 2, 3, 4, 5, 6]"
      ]
     },
     "execution_count": 24,
     "metadata": {},
     "output_type": "execute_result"
    }
   ],
   "source": [
    "L1.extend(L2)\n",
    "L1           # Note that the original list is changed using methods like append() or extend()       "
   ]
  },
  {
   "cell_type": "markdown",
   "metadata": {},
   "source": [
    "## Deleting from the list - possible through four methods\n",
    "\n",
    "* remove(x) - Deletes element from list whose value is x. If no value is found raises ValueError, if multiple values are found, deletes first occuring entry of x from the list.\n",
    "* pop(i) - Pops (deletes) the element at index i. If i is not specified, deletes the last (latest) item in the list (LIFO)\n",
    "* clear() - Remove all items from the list. Equivalent to del a[:].\n",
    "* del statement - Delete statement is probably the most versatile of the deletion methods. It can delete one element at a specified position/index, multiple elements from start position to end position in the list, or the entire list itself (using the colon operator)."
   ]
  },
  {
   "cell_type": "code",
   "execution_count": 29,
   "metadata": {
    "ExecuteTime": {
     "end_time": "2021-06-14T18:30:58.237071Z",
     "start_time": "2021-06-14T18:30:58.226070Z"
    }
   },
   "outputs": [
    {
     "data": {
      "text/plain": [
       "[1, 2, 3, 4]"
      ]
     },
     "execution_count": 29,
     "metadata": {},
     "output_type": "execute_result"
    }
   ],
   "source": [
    "L1 = [1,2,3,4,5]\n",
    "L2 = [3,5,4,5,6,5]\n",
    "\n",
    "L1.remove(5)\n",
    "L1"
   ]
  },
  {
   "cell_type": "code",
   "execution_count": 30,
   "metadata": {
    "ExecuteTime": {
     "end_time": "2021-06-14T18:31:01.668204Z",
     "start_time": "2021-06-14T18:31:01.652220Z"
    }
   },
   "outputs": [
    {
     "data": {
      "text/plain": [
       "[3, 4, 5, 6, 5]"
      ]
     },
     "execution_count": 30,
     "metadata": {},
     "output_type": "execute_result"
    }
   ],
   "source": [
    "L2.remove(5)\n",
    "L2"
   ]
  },
  {
   "cell_type": "code",
   "execution_count": 31,
   "metadata": {
    "ExecuteTime": {
     "end_time": "2021-06-14T18:35:20.269128Z",
     "start_time": "2021-06-14T18:35:20.253690Z"
    }
   },
   "outputs": [
    {
     "data": {
      "text/plain": [
       "[3, 4, 5, 6]"
      ]
     },
     "execution_count": 31,
     "metadata": {},
     "output_type": "execute_result"
    }
   ],
   "source": [
    "L2.pop()\n",
    "L2"
   ]
  },
  {
   "cell_type": "code",
   "execution_count": 32,
   "metadata": {
    "ExecuteTime": {
     "end_time": "2021-06-14T18:35:32.216103Z",
     "start_time": "2021-06-14T18:35:32.191795Z"
    }
   },
   "outputs": [
    {
     "data": {
      "text/plain": [
       "[]"
      ]
     },
     "execution_count": 32,
     "metadata": {},
     "output_type": "execute_result"
    }
   ],
   "source": [
    "L2.clear()\n",
    "L2"
   ]
  },
  {
   "cell_type": "code",
   "execution_count": 33,
   "metadata": {
    "ExecuteTime": {
     "end_time": "2021-06-14T18:36:09.702557Z",
     "start_time": "2021-06-14T18:36:09.669623Z"
    }
   },
   "outputs": [
    {
     "data": {
      "text/plain": [
       "[]"
      ]
     },
     "execution_count": 33,
     "metadata": {},
     "output_type": "execute_result"
    }
   ],
   "source": [
    "del L1[:]\n",
    "L1"
   ]
  },
  {
   "cell_type": "code",
   "execution_count": 39,
   "metadata": {
    "ExecuteTime": {
     "end_time": "2021-06-14T18:38:44.192402Z",
     "start_time": "2021-06-14T18:38:44.172425Z"
    }
   },
   "outputs": [
    {
     "data": {
      "text/plain": [
       "[1, 2, 4, 5, 6]"
      ]
     },
     "execution_count": 39,
     "metadata": {},
     "output_type": "execute_result"
    }
   ],
   "source": [
    "L2 = [1,2,3,4,5,6]\n",
    "del L2[2]\n",
    "L2"
   ]
  },
  {
   "cell_type": "code",
   "execution_count": 42,
   "metadata": {
    "ExecuteTime": {
     "end_time": "2021-06-14T18:39:16.113306Z",
     "start_time": "2021-06-14T18:39:16.081388Z"
    }
   },
   "outputs": [
    {
     "data": {
      "text/plain": [
       "[1, 2, 3, 4, 5, 6, 7, 8, 9, 10, 11, 12]"
      ]
     },
     "execution_count": 42,
     "metadata": {},
     "output_type": "execute_result"
    }
   ],
   "source": [
    "L2 = [1,2,3,4,5,6]\n",
    "L2 = L2 + [7,8,9,10,11,12]\n",
    "L2"
   ]
  },
  {
   "cell_type": "code",
   "execution_count": 43,
   "metadata": {
    "ExecuteTime": {
     "end_time": "2021-06-14T18:39:18.124115Z",
     "start_time": "2021-06-14T18:39:18.103117Z"
    }
   },
   "outputs": [
    {
     "data": {
      "text/plain": [
       "[1, 2, 3, 7, 8, 9, 10, 11, 12]"
      ]
     },
     "execution_count": 43,
     "metadata": {},
     "output_type": "execute_result"
    }
   ],
   "source": [
    "del L2[3:6]\n",
    "L2"
   ]
  },
  {
   "cell_type": "markdown",
   "metadata": {},
   "source": [
    "## Accessing an element in a list\n",
    "\n",
    "Using the indices - \n",
    "\n",
    "* all elements: ':' e.g. L[:]\n",
    "* some elements: 'a:b' e.g. L[start_pos:end_pos]\n",
    "* one element at index i: 'i' e.g. L[i]\n",
    "\n",
    "or return index of a specific entry in the list\n",
    "\n",
    "* index(x,start_pos,end_pos) - Returns the index (position) of value x in the given list. The start_pos and end_pos arguments are optional, but when given the search would happen within the specified range or starting from start_pos. If no start_pos or end_pos is mentioned, function returns position of first occurrence of value x in the given list."
   ]
  },
  {
   "cell_type": "code",
   "execution_count": 49,
   "metadata": {
    "ExecuteTime": {
     "end_time": "2021-06-14T21:30:47.934666Z",
     "start_time": "2021-06-14T21:30:47.918700Z"
    }
   },
   "outputs": [
    {
     "name": "stdout",
     "output_type": "stream",
     "text": [
      "1 \n",
      " [1, 2, 3, 4, 5, 6] \n",
      " [3, 4]\n"
     ]
    }
   ],
   "source": [
    "L1 = [1,2,3,4,5,6]\n",
    "print(L1[0],\"\\n\",L1[:],\"\\n\",L1[2:4])"
   ]
  },
  {
   "cell_type": "code",
   "execution_count": 51,
   "metadata": {
    "ExecuteTime": {
     "end_time": "2021-06-14T21:32:03.780549Z",
     "start_time": "2021-06-14T21:32:03.759588Z"
    }
   },
   "outputs": [
    {
     "data": {
      "text/plain": [
       "[6]"
      ]
     },
     "execution_count": 51,
     "metadata": {},
     "output_type": "execute_result"
    }
   ],
   "source": [
    "# last element of the list\n",
    "\n",
    "L1[-1:]"
   ]
  },
  {
   "cell_type": "markdown",
   "metadata": {},
   "source": [
    "### The increment operator - telling control how to move through indices\n",
    "\n",
    "List access syntax is L[start_pos:end_pos:index_increment]\n",
    "\n",
    "When control moves in a list, by default it moves 1 space at a time, i.e. 0th index to 1st, 1st to 2nd, 2nd to 3rd etc.\n",
    "\n",
    "While accessing list elements, we can specify a different increment operator than the default (1) so that control can move from say index 1 to 3, 3 to 5, etc. or 2 to 5, 5 to 8, 8 to 11 etc."
   ]
  },
  {
   "cell_type": "code",
   "execution_count": 52,
   "metadata": {
    "ExecuteTime": {
     "end_time": "2021-06-14T21:35:26.812553Z",
     "start_time": "2021-06-14T21:35:26.794594Z"
    }
   },
   "outputs": [
    {
     "data": {
      "text/plain": [
       "[1, 3, 5, 7, 9, 11, 13, 15, 17]"
      ]
     },
     "execution_count": 52,
     "metadata": {},
     "output_type": "execute_result"
    }
   ],
   "source": [
    "L1 = [1,2,3,4,5,6,7,8,9,10,11,12,13,14,15,16,17]\n",
    "\n",
    "L1[::2] # increment 2 - skips 1 element"
   ]
  },
  {
   "cell_type": "code",
   "execution_count": 54,
   "metadata": {
    "ExecuteTime": {
     "end_time": "2021-06-14T21:35:50.016451Z",
     "start_time": "2021-06-14T21:35:49.995454Z"
    }
   },
   "outputs": [
    {
     "data": {
      "text/plain": [
       "[1, 4, 7, 10, 13, 16]"
      ]
     },
     "execution_count": 54,
     "metadata": {},
     "output_type": "execute_result"
    }
   ],
   "source": [
    "L1[::3] # increment 3 - skips 2 elements"
   ]
  },
  {
   "cell_type": "code",
   "execution_count": 55,
   "metadata": {
    "ExecuteTime": {
     "end_time": "2021-06-14T21:36:32.964887Z",
     "start_time": "2021-06-14T21:36:32.943903Z"
    }
   },
   "outputs": [
    {
     "data": {
      "text/plain": [
       "[2, 5, 8, 11, 14, 17]"
      ]
     },
     "execution_count": 55,
     "metadata": {},
     "output_type": "execute_result"
    }
   ],
   "source": [
    "L1[1::3] # increment 3 with starting position 1"
   ]
  },
  {
   "cell_type": "code",
   "execution_count": 56,
   "metadata": {
    "ExecuteTime": {
     "end_time": "2021-06-14T21:38:00.827395Z",
     "start_time": "2021-06-14T21:38:00.809397Z"
    }
   },
   "outputs": [
    {
     "data": {
      "text/plain": [
       "[17, 16, 15, 14, 13, 12, 11, 10, 9, 8, 7, 6, 5, 4, 3, 2, 1]"
      ]
     },
     "execution_count": 56,
     "metadata": {},
     "output_type": "execute_result"
    }
   ],
   "source": [
    "# List reversal\n",
    "\n",
    "L1[::-1]"
   ]
  },
  {
   "cell_type": "markdown",
   "metadata": {},
   "source": [
    "<p style=\"color:red; \"><b>NOTE:</b></p> None of these access operations change the original list. These are read only operations, unless assignment operator ('=') is explicitly used."
   ]
  },
  {
   "cell_type": "markdown",
   "metadata": {},
   "source": [
    "## Other methods on lists\n",
    "\n",
    "* count(x) - Returns the number of times value x appears in the list. Like frequency.\n",
    "* len(L) - Returns length of List L.\n",
    "* sort(*, key = None, reverse = False) - Sort the items of the list in place. Key and reverse are optional arguments. Key basically takes in a function which it would use to sort the list. If key is not mentioned, by default, ascending order sorting is executed. when reverse is set to true, list gets sorted in descending order.\n",
    "* reverse() -  It reverses the order of elements in the list and returns the reverse of original list L. It is same as L[::-1]. However, the difference is this method changes the original List, whereas L[::-1] does not.\n",
    "* copy() - It returns a copy of the list. This is useful when you do not want to modify original list, but would like to perform operations on a copy of the list."
   ]
  },
  {
   "cell_type": "code",
   "execution_count": 60,
   "metadata": {
    "ExecuteTime": {
     "end_time": "2021-06-14T22:21:21.316313Z",
     "start_time": "2021-06-14T22:21:21.297314Z"
    }
   },
   "outputs": [
    {
     "data": {
      "text/plain": [
       "5"
      ]
     },
     "execution_count": 60,
     "metadata": {},
     "output_type": "execute_result"
    }
   ],
   "source": [
    "L2 = [1,2,3,4,2,5,3,2,5,6,7,3,2,2,1,7,4,8,5,3,9]\n",
    "\n",
    "L2.count(2)"
   ]
  },
  {
   "cell_type": "code",
   "execution_count": 61,
   "metadata": {
    "ExecuteTime": {
     "end_time": "2021-06-14T22:21:23.185270Z",
     "start_time": "2021-06-14T22:21:23.168273Z"
    }
   },
   "outputs": [
    {
     "data": {
      "text/plain": [
       "[1, 1, 2, 2, 2, 2, 2, 3, 3, 3, 3, 4, 4, 5, 5, 5, 6, 7, 7, 8, 9]"
      ]
     },
     "execution_count": 61,
     "metadata": {},
     "output_type": "execute_result"
    }
   ],
   "source": [
    "L2.sort()\n",
    "L2"
   ]
  },
  {
   "cell_type": "code",
   "execution_count": 62,
   "metadata": {
    "ExecuteTime": {
     "end_time": "2021-06-14T22:21:48.587884Z",
     "start_time": "2021-06-14T22:21:48.575927Z"
    }
   },
   "outputs": [
    {
     "data": {
      "text/plain": [
       "[9, 8, 7, 7, 6, 5, 5, 5, 4, 4, 3, 3, 3, 3, 2, 2, 2, 2, 2, 1, 1]"
      ]
     },
     "execution_count": 62,
     "metadata": {},
     "output_type": "execute_result"
    }
   ],
   "source": [
    "L2 = [1,2,3,4,2,5,3,2,5,6,7,3,2,2,1,7,4,8,5,3,9]\n",
    "L2.sort(reverse=True)\n",
    "L2"
   ]
  },
  {
   "cell_type": "code",
   "execution_count": 72,
   "metadata": {
    "ExecuteTime": {
     "end_time": "2021-06-14T22:31:03.579663Z",
     "start_time": "2021-06-14T22:31:03.561698Z"
    }
   },
   "outputs": [
    {
     "name": "stdout",
     "output_type": "stream",
     "text": [
      "{1: 2, 2: 5, 3: 4, 4: 2, 5: 3, 6: 1, 7: 2, 8: 1, 9: 1}\n"
     ]
    },
    {
     "data": {
      "text/plain": [
       "[2, 2, 2, 2, 2, 3, 3, 3, 3, 5, 5, 5, 1, 4, 7, 1, 7, 4, 6, 8, 9]"
      ]
     },
     "execution_count": 72,
     "metadata": {},
     "output_type": "execute_result"
    }
   ],
   "source": [
    "# Example of key parameter in sort() function\n",
    "\n",
    "L2 = [1,2,3,4,2,5,3,2,5,6,7,3,2,2,1,7,4,8,5,3,9]\n",
    "\n",
    "def freq_counts(L):\n",
    "    d = {}\n",
    "    for a in set(L):\n",
    "        d[a] = L.count(a)\n",
    "    return d\n",
    "\n",
    "d2 = freq_counts(L2)\n",
    "print(d2)\n",
    "\n",
    "L2.sort(key=freq_counts(L2).get, reverse=True) #  tries to sort the list in increasing frequency of elements. However, the discrepancy you see in output here is because of same frequency for 1,4 and 7.\n",
    "L2"
   ]
  },
  {
   "cell_type": "code",
   "execution_count": 75,
   "metadata": {
    "ExecuteTime": {
     "end_time": "2021-06-14T22:37:24.411781Z",
     "start_time": "2021-06-14T22:37:24.404778Z"
    }
   },
   "outputs": [
    {
     "data": {
      "text/plain": [
       "[6, 5, 4, 3, 2, 1]"
      ]
     },
     "execution_count": 75,
     "metadata": {},
     "output_type": "execute_result"
    }
   ],
   "source": [
    "# Original list is modified with reverse() function\n",
    "\n",
    "L1 = [1,2,3,4,5,6]\n",
    "\n",
    "L1.reverse()\n",
    "L1"
   ]
  },
  {
   "cell_type": "code",
   "execution_count": 76,
   "metadata": {
    "ExecuteTime": {
     "end_time": "2021-06-14T22:37:26.861227Z",
     "start_time": "2021-06-14T22:37:26.851198Z"
    }
   },
   "outputs": [
    {
     "data": {
      "text/plain": [
       "[6, 5, 4, 3, 2, 1]"
      ]
     },
     "execution_count": 76,
     "metadata": {},
     "output_type": "execute_result"
    }
   ],
   "source": [
    "# Original list is not modified with this operation as it is read only\n",
    "\n",
    "L1 = [1,2,3,4,5,6]\n",
    "L1[::-1]"
   ]
  },
  {
   "cell_type": "code",
   "execution_count": 77,
   "metadata": {
    "ExecuteTime": {
     "end_time": "2021-06-14T22:37:28.611029Z",
     "start_time": "2021-06-14T22:37:28.588459Z"
    }
   },
   "outputs": [
    {
     "data": {
      "text/plain": [
       "[1, 2, 3, 4, 5, 6]"
      ]
     },
     "execution_count": 77,
     "metadata": {},
     "output_type": "execute_result"
    }
   ],
   "source": [
    "L1"
   ]
  },
  {
   "cell_type": "code",
   "execution_count": 86,
   "metadata": {
    "ExecuteTime": {
     "end_time": "2021-06-14T22:40:25.061517Z",
     "start_time": "2021-06-14T22:40:25.041516Z"
    }
   },
   "outputs": [
    {
     "data": {
      "text/plain": [
       "[6, 5, 4, 3, 2, 1]"
      ]
     },
     "execution_count": 86,
     "metadata": {},
     "output_type": "execute_result"
    }
   ],
   "source": [
    "L1 = [1,2,3,4,5,6]\n",
    "L2 = L1.copy()\n",
    "L2.reverse() # Note: Chaining doesn't seem to work here. i.e. L1.copy().reverse() does not yeild any result.\n",
    "L2"
   ]
  },
  {
   "cell_type": "code",
   "execution_count": 87,
   "metadata": {
    "ExecuteTime": {
     "end_time": "2021-06-14T22:40:27.602445Z",
     "start_time": "2021-06-14T22:40:27.592442Z"
    }
   },
   "outputs": [
    {
     "data": {
      "text/plain": [
       "[1, 2, 3, 4, 5, 6]"
      ]
     },
     "execution_count": 87,
     "metadata": {},
     "output_type": "execute_result"
    }
   ],
   "source": [
    "L1"
   ]
  }
 ],
 "metadata": {
  "kernelspec": {
   "display_name": "Python 3",
   "language": "python",
   "name": "python3"
  },
  "language_info": {
   "codemirror_mode": {
    "name": "ipython",
    "version": 3
   },
   "file_extension": ".py",
   "mimetype": "text/x-python",
   "name": "python",
   "nbconvert_exporter": "python",
   "pygments_lexer": "ipython3",
   "version": "3.7.3"
  }
 },
 "nbformat": 4,
 "nbformat_minor": 2
}
